{
 "cells": [
  {
   "cell_type": "code",
   "execution_count": 74,
   "id": "7f5e7d4d",
   "metadata": {},
   "outputs": [],
   "source": [
    "import os\n",
    "import pandas as pd\n",
    "from PIL import Image\n",
    "import imagehash\n",
    "import glob\n",
    "import pandas_profiling"
   ]
  },
  {
   "cell_type": "code",
   "execution_count": 75,
   "id": "a8d8636d",
   "metadata": {},
   "outputs": [],
   "source": [
    "filepath = '../imageGenerate/build/images/'"
   ]
  },
  {
   "cell_type": "markdown",
   "id": "ed9789f2",
   "metadata": {},
   "source": [
    "##  images folder 안의 이미지 불러와 Hash 값 가져오기"
   ]
  },
  {
   "cell_type": "code",
   "execution_count": 76,
   "id": "964198fa",
   "metadata": {},
   "outputs": [],
   "source": [
    "def hashtable():\n",
    "    df = pd.DataFrame(columns = ['Filename', 'Hash'])\n",
    "    for filename in os.listdir(filepath):\n",
    "        if not filename.startswith('.'):\n",
    "            hashedImage = imagehash.average_hash(Image.open(filepath + filename))\n",
    "            df = df.append(pd.DataFrame([[filename, hashedImage]], columns=['Filename', 'Hash']), ignore_index=True)\n",
    "            \n",
    "    return df"
   ]
  },
  {
   "cell_type": "markdown",
   "id": "3a2d662e",
   "metadata": {},
   "source": [
    "## hash 값의 unique, count 비교"
   ]
  },
  {
   "cell_type": "code",
   "execution_count": 78,
   "id": "e889ccc7",
   "metadata": {},
   "outputs": [
    {
     "data": {
      "text/html": [
       "<div>\n",
       "<style scoped>\n",
       "    .dataframe tbody tr th:only-of-type {\n",
       "        vertical-align: middle;\n",
       "    }\n",
       "\n",
       "    .dataframe tbody tr th {\n",
       "        vertical-align: top;\n",
       "    }\n",
       "\n",
       "    .dataframe thead th {\n",
       "        text-align: right;\n",
       "    }\n",
       "</style>\n",
       "<table border=\"1\" class=\"dataframe\">\n",
       "  <thead>\n",
       "    <tr style=\"text-align: right;\">\n",
       "      <th></th>\n",
       "      <th>Filename</th>\n",
       "      <th>Hash</th>\n",
       "    </tr>\n",
       "  </thead>\n",
       "  <tbody>\n",
       "    <tr>\n",
       "      <th>count</th>\n",
       "      <td>11</td>\n",
       "      <td>11</td>\n",
       "    </tr>\n",
       "    <tr>\n",
       "      <th>unique</th>\n",
       "      <td>11</td>\n",
       "      <td>9</td>\n",
       "    </tr>\n",
       "    <tr>\n",
       "      <th>top</th>\n",
       "      <td>1.png</td>\n",
       "      <td>ffc700646600c1ff</td>\n",
       "    </tr>\n",
       "    <tr>\n",
       "      <th>freq</th>\n",
       "      <td>1</td>\n",
       "      <td>2</td>\n",
       "    </tr>\n",
       "  </tbody>\n",
       "</table>\n",
       "</div>"
      ],
      "text/plain": [
       "       Filename              Hash\n",
       "count        11                11\n",
       "unique       11                 9\n",
       "top       1.png  ffc700646600c1ff\n",
       "freq          1                 2"
      ]
     },
     "execution_count": 78,
     "metadata": {},
     "output_type": "execute_result"
    }
   ],
   "source": [
    "d = hashtable()\n",
    "d.describe()"
   ]
  },
  {
   "cell_type": "markdown",
   "id": "c2dc247a",
   "metadata": {},
   "source": [
    "## 이미지 폴더 두 개 같은지 비교"
   ]
  },
  {
   "cell_type": "code",
   "execution_count": 80,
   "id": "052d2134",
   "metadata": {},
   "outputs": [],
   "source": [
    "# Check if images match\n",
    "\n",
    "def checkImage():\n",
    "    for filename in os.listdir(filepath):\n",
    "        if not filename.startswith('.'):\n",
    "            hashedImage = imagehash.average_hash(Image.open(filepath + filename))\n",
    "        print(filename, hashedImage)\n",
    "\n",
    "    for filename in os.listdir(filepath2):\n",
    "        if not filename.startswith('.'):\n",
    "            check_image = imagehash.average_hash(Image.open(filepath2 + filename))\n",
    "        print(filename, check_image)\n",
    "\n",
    "    if check_image == hashedImage:\n",
    "        pass\n",
    "    else:\n",
    "        print(\"Not the same image\")\n",
    "\n",
    "    print(hashedImage, check_image)\n",
    "\n",
    "\n",
    "#checkImage()"
   ]
  }
 ],
 "metadata": {
  "kernelspec": {
   "display_name": "Python 3",
   "language": "python",
   "name": "python3"
  },
  "language_info": {
   "codemirror_mode": {
    "name": "ipython",
    "version": 3
   },
   "file_extension": ".py",
   "mimetype": "text/x-python",
   "name": "python",
   "nbconvert_exporter": "python",
   "pygments_lexer": "ipython3",
   "version": "3.8.8"
  }
 },
 "nbformat": 4,
 "nbformat_minor": 5
}
