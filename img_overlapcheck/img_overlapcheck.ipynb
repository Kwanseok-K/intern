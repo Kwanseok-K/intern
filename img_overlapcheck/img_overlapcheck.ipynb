{
 "cells": [
  {
   "cell_type": "code",
   "execution_count": 21,
   "id": "cf46bd80",
   "metadata": {},
   "outputs": [],
   "source": [
    "#!pip install opencv-python"
   ]
  },
  {
   "cell_type": "markdown",
   "id": "5a12b351",
   "metadata": {},
   "source": [
    "## images folder 안의 이미지 불러오기"
   ]
  },
  {
   "cell_type": "code",
   "execution_count": 2,
   "id": "7f5e7d4d",
   "metadata": {},
   "outputs": [],
   "source": [
    "import os\n",
    "import pandas as pd\n",
    "import cv2\n",
    "from skimage.metrics import structural_similarity as ssim"
   ]
  },
  {
   "cell_type": "code",
   "execution_count": 4,
   "id": "b37faab5",
   "metadata": {},
   "outputs": [],
   "source": [
    "photo_list = []\n",
    "\n",
    "for f in os.listdir('../imageGenerate/build/images'):\n",
    "    if 'png' in f:\n",
    "        photo_list.append(f)"
   ]
  },
  {
   "cell_type": "code",
   "execution_count": 5,
   "id": "036b0b14",
   "metadata": {},
   "outputs": [],
   "source": [
    "photo_size = list(map(lambda x: os.path.getsize('../imageGenerate/build/images' + '/' + x), photo_list))"
   ]
  },
  {
   "cell_type": "code",
   "execution_count": 6,
   "id": "040842e0",
   "metadata": {},
   "outputs": [
    {
     "name": "stdout",
     "output_type": "stream",
     "text": [
      "사진의 갯수 : 11\n"
     ]
    }
   ],
   "source": [
    "# Find Same Photos\n",
    "fsp = pd.DataFrame({'filename_raw':photo_list, 'size':photo_size})\n",
    "\n",
    "print('사진의 갯수 :', len(fsp))"
   ]
  },
  {
   "cell_type": "code",
   "execution_count": 7,
   "id": "f5a30ff7",
   "metadata": {},
   "outputs": [
    {
     "data": {
      "text/html": [
       "<div>\n",
       "<style scoped>\n",
       "    .dataframe tbody tr th:only-of-type {\n",
       "        vertical-align: middle;\n",
       "    }\n",
       "\n",
       "    .dataframe tbody tr th {\n",
       "        vertical-align: top;\n",
       "    }\n",
       "\n",
       "    .dataframe thead th {\n",
       "        text-align: right;\n",
       "    }\n",
       "</style>\n",
       "<table border=\"1\" class=\"dataframe\">\n",
       "  <thead>\n",
       "    <tr style=\"text-align: right;\">\n",
       "      <th></th>\n",
       "      <th>filename_raw</th>\n",
       "      <th>size</th>\n",
       "    </tr>\n",
       "  </thead>\n",
       "  <tbody>\n",
       "    <tr>\n",
       "      <th>0</th>\n",
       "      <td>8.png</td>\n",
       "      <td>199698</td>\n",
       "    </tr>\n",
       "    <tr>\n",
       "      <th>1</th>\n",
       "      <td>9.png</td>\n",
       "      <td>212742</td>\n",
       "    </tr>\n",
       "    <tr>\n",
       "      <th>2</th>\n",
       "      <td>11.png</td>\n",
       "      <td>205413</td>\n",
       "    </tr>\n",
       "    <tr>\n",
       "      <th>3</th>\n",
       "      <td>10.png</td>\n",
       "      <td>179631</td>\n",
       "    </tr>\n",
       "    <tr>\n",
       "      <th>4</th>\n",
       "      <td>4.png</td>\n",
       "      <td>223850</td>\n",
       "    </tr>\n",
       "    <tr>\n",
       "      <th>5</th>\n",
       "      <td>5.png</td>\n",
       "      <td>205257</td>\n",
       "    </tr>\n",
       "    <tr>\n",
       "      <th>6</th>\n",
       "      <td>7.png</td>\n",
       "      <td>205413</td>\n",
       "    </tr>\n",
       "    <tr>\n",
       "      <th>7</th>\n",
       "      <td>6.png</td>\n",
       "      <td>183736</td>\n",
       "    </tr>\n",
       "    <tr>\n",
       "      <th>8</th>\n",
       "      <td>2.png</td>\n",
       "      <td>213018</td>\n",
       "    </tr>\n",
       "    <tr>\n",
       "      <th>9</th>\n",
       "      <td>3.png</td>\n",
       "      <td>200913</td>\n",
       "    </tr>\n",
       "    <tr>\n",
       "      <th>10</th>\n",
       "      <td>1.png</td>\n",
       "      <td>207157</td>\n",
       "    </tr>\n",
       "  </tbody>\n",
       "</table>\n",
       "</div>"
      ],
      "text/plain": [
       "   filename_raw    size\n",
       "0         8.png  199698\n",
       "1         9.png  212742\n",
       "2        11.png  205413\n",
       "3        10.png  179631\n",
       "4         4.png  223850\n",
       "5         5.png  205257\n",
       "6         7.png  205413\n",
       "7         6.png  183736\n",
       "8         2.png  213018\n",
       "9         3.png  200913\n",
       "10        1.png  207157"
      ]
     },
     "execution_count": 7,
     "metadata": {},
     "output_type": "execute_result"
    }
   ],
   "source": [
    "fsp"
   ]
  },
  {
   "cell_type": "markdown",
   "id": "ad96a92f",
   "metadata": {},
   "source": [
    "### 1. 겹치는 파일명 확인 \n",
    "(image generate 하면 다 다를 것이기 때문에 필요 없을 가능성이 많음)"
   ]
  },
  {
   "cell_type": "code",
   "execution_count": 8,
   "id": "c04e9f7b",
   "metadata": {},
   "outputs": [],
   "source": [
    "# 겹치는 파일명 있을 시 뒤에 숫자 제거\n",
    "import re   # 정규표현식\n",
    "com = re.compile(' \\d')\n",
    "fsp['filename'] = list(map(lambda x: com.sub('', x), photo_list))"
   ]
  },
  {
   "cell_type": "code",
   "execution_count": 9,
   "id": "7971d730",
   "metadata": {},
   "outputs": [
    {
     "data": {
      "text/html": [
       "<div>\n",
       "<style scoped>\n",
       "    .dataframe tbody tr th:only-of-type {\n",
       "        vertical-align: middle;\n",
       "    }\n",
       "\n",
       "    .dataframe tbody tr th {\n",
       "        vertical-align: top;\n",
       "    }\n",
       "\n",
       "    .dataframe thead th {\n",
       "        text-align: right;\n",
       "    }\n",
       "</style>\n",
       "<table border=\"1\" class=\"dataframe\">\n",
       "  <thead>\n",
       "    <tr style=\"text-align: right;\">\n",
       "      <th></th>\n",
       "      <th>filename_raw</th>\n",
       "      <th>size</th>\n",
       "      <th>filename</th>\n",
       "      <th>fn_counts</th>\n",
       "      <th>size_counts</th>\n",
       "    </tr>\n",
       "  </thead>\n",
       "  <tbody>\n",
       "    <tr>\n",
       "      <th>10</th>\n",
       "      <td>1.png</td>\n",
       "      <td>207157</td>\n",
       "      <td>1.png</td>\n",
       "      <td>1</td>\n",
       "      <td>1</td>\n",
       "    </tr>\n",
       "    <tr>\n",
       "      <th>8</th>\n",
       "      <td>2.png</td>\n",
       "      <td>213018</td>\n",
       "      <td>2.png</td>\n",
       "      <td>1</td>\n",
       "      <td>1</td>\n",
       "    </tr>\n",
       "  </tbody>\n",
       "</table>\n",
       "</div>"
      ],
      "text/plain": [
       "   filename_raw    size filename  fn_counts  size_counts\n",
       "10        1.png  207157    1.png          1            1\n",
       "8         2.png  213018    2.png          1            1"
      ]
     },
     "execution_count": 9,
     "metadata": {},
     "output_type": "execute_result"
    }
   ],
   "source": [
    "pvc = pd.DataFrame({'filename':fsp['filename'].value_counts().index, 'fn_counts':fsp['filename'].value_counts().values})   \n",
    "psvc = pd.DataFrame({'size':fsp['size'].value_counts().index, 'size_counts':fsp['size'].value_counts().values})   \n",
    "\n",
    "fsp = pd.merge(fsp, pvc, how = 'left', on = 'filename')\n",
    "fsp = pd.merge(fsp, psvc, how = 'left', on = 'size')\n",
    "\n",
    "fsp.sample(2)"
   ]
  },
  {
   "cell_type": "code",
   "execution_count": 10,
   "id": "9fca50bc",
   "metadata": {},
   "outputs": [],
   "source": [
    "for i in range(len(fsp)):\n",
    "    if (fsp['fn_counts'][i] > 1) & (fsp['size_counts'][i] == 1):\n",
    "        print(i)"
   ]
  },
  {
   "cell_type": "code",
   "execution_count": 11,
   "id": "3481f9a3",
   "metadata": {},
   "outputs": [],
   "source": [
    "# Find Same Phto_Not Same Name\n",
    "fsp_nsn = fsp.sort_values(['filename_raw'], ascending = False).drop_duplicates(['filename'], keep = 'first')"
   ]
  },
  {
   "cell_type": "code",
   "execution_count": 12,
   "id": "bb6bce8f",
   "metadata": {},
   "outputs": [
    {
     "name": "stdout",
     "output_type": "stream",
     "text": [
      "남은 사진의 갯수 : 11\n",
      "지워진 사진의 갯수 : 0\n"
     ]
    }
   ],
   "source": [
    "print('남은 사진의 갯수 : {}\\n지워진 사진의 갯수 : {}'.format(len(fsp_nsn), len(fsp)-len(fsp_nsn)))"
   ]
  },
  {
   "cell_type": "code",
   "execution_count": 13,
   "id": "09684e7b",
   "metadata": {},
   "outputs": [],
   "source": [
    "pvc_nsn = pd.DataFrame({'filename':fsp_nsn['filename'].value_counts().index, 'fn_counts_nsn':fsp_nsn['filename'].value_counts().values})   \n",
    "psvc_nsn = pd.DataFrame({'size':fsp_nsn['size'].value_counts().index, 'size_counts_nsn':fsp_nsn['size'].value_counts().values})   \n",
    "\n",
    "fsp_nsn = pd.merge(fsp_nsn, pvc_nsn, how = 'left', on = 'filename')\n",
    "fsp_nsn = pd.merge(fsp_nsn, psvc_nsn, how = 'left', on = 'size')"
   ]
  },
  {
   "cell_type": "code",
   "execution_count": 14,
   "id": "91b29e00",
   "metadata": {},
   "outputs": [
    {
     "data": {
      "text/html": [
       "<div>\n",
       "<style scoped>\n",
       "    .dataframe tbody tr th:only-of-type {\n",
       "        vertical-align: middle;\n",
       "    }\n",
       "\n",
       "    .dataframe tbody tr th {\n",
       "        vertical-align: top;\n",
       "    }\n",
       "\n",
       "    .dataframe thead th {\n",
       "        text-align: right;\n",
       "    }\n",
       "</style>\n",
       "<table border=\"1\" class=\"dataframe\">\n",
       "  <thead>\n",
       "    <tr style=\"text-align: right;\">\n",
       "      <th></th>\n",
       "      <th>filename_raw</th>\n",
       "      <th>size</th>\n",
       "      <th>filename</th>\n",
       "      <th>fn_counts</th>\n",
       "      <th>size_counts</th>\n",
       "      <th>fn_counts_nsn</th>\n",
       "      <th>size_counts_nsn</th>\n",
       "    </tr>\n",
       "  </thead>\n",
       "  <tbody>\n",
       "  </tbody>\n",
       "</table>\n",
       "</div>"
      ],
      "text/plain": [
       "Empty DataFrame\n",
       "Columns: [filename_raw, size, filename, fn_counts, size_counts, fn_counts_nsn, size_counts_nsn]\n",
       "Index: []"
      ]
     },
     "execution_count": 14,
     "metadata": {},
     "output_type": "execute_result"
    }
   ],
   "source": [
    "fsp_nsn[fsp_nsn['fn_counts_nsn']!=1]"
   ]
  },
  {
   "cell_type": "code",
   "execution_count": 15,
   "id": "632e3a6e",
   "metadata": {},
   "outputs": [
    {
     "name": "stdout",
     "output_type": "stream",
     "text": [
      "사이즈 겹치는 사진의 갯수 : 2\n",
      "중복 사이즈의 갯수 : 1\n"
     ]
    }
   ],
   "source": [
    "print('사이즈 겹치는 사진의 갯수 :', len(fsp_nsn[fsp_nsn['size_counts_nsn']!=1]))\n",
    "print('중복 사이즈의 갯수 :', len(psvc_nsn[psvc_nsn['size_counts_nsn']>1]))"
   ]
  },
  {
   "cell_type": "markdown",
   "id": "da40e0f1",
   "metadata": {},
   "source": [
    "### 사이즈가 같은 이미지 비교\n",
    "1) 사이즈가 같은 두 이미지를 불러온다.\n",
    "\n",
    "2) 이미지를 array로 변환했을 때 구조가 같다면 두 이미지에 차이가 있는지 확인한다. \n",
    "\n",
    "3) 만약 두개의 이미지 구조가 같은데 차이가 존재한다면 그 사진은 직접 확인하기로 한다."
   ]
  },
  {
   "cell_type": "code",
   "execution_count": 19,
   "id": "eb1fabac",
   "metadata": {},
   "outputs": [],
   "source": [
    "# 삭제될 사진의 리스트\n",
    "delete = []\n",
    "\n",
    "\n",
    "for i in range(len(psvc_nsn)):\n",
    "    \n",
    "    # 중복된 크기(size)가 있는 경우\n",
    "    if psvc_nsn['size_counts_nsn'][i] == 2:\n",
    "        \n",
    "        # 그 크기에 해당하는 사진을 불러온다. \n",
    "        temp = fsp_nsn[fsp_nsn['size']==psvc_nsn['size'][i]].reset_index(drop = True).sort_values(['filename'])\n",
    "        \n",
    "        # 사진 읽기\n",
    "        imageA = cv2.imread('../imageGenerate/build/images/'+temp['filename_raw'][0])\n",
    "        imageB = cv2.imread('../imageGenerate/build/images/'+temp['filename_raw'][1])\n",
    "    \n",
    "        # 이미지를 grayscale로 변환\n",
    "        grayA = cv2.cvtColor(imageA, cv2.COLOR_BGR2GRAY)\n",
    "        grayB = cv2.cvtColor(imageB, cv2.COLOR_BGR2GRAY)\n",
    "        \n",
    "        # 이미지의 구조가 같다면 이미지 비교\n",
    "        if len(grayA)==len(grayB):\n",
    "            (score, diff) = ssim(grayA, grayB, full=True)\n",
    "            \n",
    "            # 차이가 없다면 하나는 delete에 넣어주기\n",
    "            if score == 1:\n",
    "                delete.append(temp['filename_raw'][1])\n",
    "            \n",
    "            # 구조가 같지만 차이가 존재한다면 직접 확인하기     \n",
    "            else:\n",
    "                print('확인해보시오! : ', temp['filename_raw'][0], '/', temp['filename_raw'][1], f'(score : {score})')"
   ]
  },
  {
   "cell_type": "code",
   "execution_count": 20,
   "id": "cfc5a067",
   "metadata": {},
   "outputs": [
    {
     "name": "stdout",
     "output_type": "stream",
     "text": [
      "['11.png']\n"
     ]
    }
   ],
   "source": [
    "# 삭제해야 할 이미지 출력!\n",
    "print(delete)"
   ]
  },
  {
   "cell_type": "code",
   "execution_count": null,
   "id": "34f44ea6",
   "metadata": {},
   "outputs": [],
   "source": []
  }
 ],
 "metadata": {
  "kernelspec": {
   "display_name": "Python 3",
   "language": "python",
   "name": "python3"
  },
  "language_info": {
   "codemirror_mode": {
    "name": "ipython",
    "version": 3
   },
   "file_extension": ".py",
   "mimetype": "text/x-python",
   "name": "python",
   "nbconvert_exporter": "python",
   "pygments_lexer": "ipython3",
   "version": "3.8.8"
  }
 },
 "nbformat": 4,
 "nbformat_minor": 5
}
